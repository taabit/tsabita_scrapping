{
 "cells": [
  {
   "cell_type": "code",
   "execution_count": 7,
   "metadata": {},
   "outputs": [],
   "source": [
    "import pandas as pd\n",
    "from selenium import webdriver\n",
    "from selenium.webdriver.chrome.service import Service\n",
    "from selenium.webdriver.common.by import By\n",
    "from selenium.webdriver.chrome.options import Options\n",
    "\n"
   ]
  },
  {
   "cell_type": "code",
   "execution_count": 8,
   "metadata": {},
   "outputs": [],
   "source": [
    "link = \"https://myanimelist.net/topanime.php?limit=0\"\n",
    "driver = webdriver.Chrome()\n",
    "driver.get(link)"
   ]
  },
  {
   "cell_type": "code",
   "execution_count": 9,
   "metadata": {},
   "outputs": [],
   "source": [
    "anime_list = driver.find_elements(By.CSS_SELECTOR, \".ranking-list\")\n",
    "ranks = []\n",
    "titles = []\n",
    "scores = [] \n",
    "\n",
    "for anime in anime_list:\n",
    "    rank_element = anime.find_element(By.CSS_SELECTOR, \".rank\")\n",
    "    rank = rank_element.text.strip()\n",
    "    ranks.append(rank)\n",
    "    \n",
    "    title_element = anime.find_element(By.CSS_SELECTOR, \".title\")\n",
    "    title = title_element.text.strip()\n",
    "    titles.append(title)\n",
    "\n",
    "    score_element = anime.find_element(By.CSS_SELECTOR, \".score\")\n",
    "    score = score_element.text.strip()\n",
    "    scores.append(score)\n"
   ]
  },
  {
   "cell_type": "code",
   "execution_count": 15,
   "metadata": {},
   "outputs": [
    {
     "name": "stdout",
     "output_type": "stream",
     "text": [
      "   Rank                                        Anime Title Score\n",
      "0     1  Fullmetal Alchemist: Brotherhood\\n\\nTV (64 eps...  9.10\n",
      "1     2  Bleach: Sennen Kessen-hen\\n\\nTV (13 eps)\\nOct ...  9.07\n",
      "2     3  Steins;Gate\\n\\nTV (24 eps)\\nApr 2011 - Sep 201...  9.07\n",
      "3     4  Shingeki no Kyojin Season 3 Part 2\\n\\nTV (10 e...  9.06\n",
      "4     5  Shingeki no Kyojin: The Final Season - Kankets...  9.06\n",
      "5     6  Gintama°\\n\\nTV (51 eps)\\nApr 2015 - Mar 2016\\n...  9.06\n",
      "6     7  Kaguya-sama wa Kokurasetai: Ultra Romantic\\n\\n...  9.05\n",
      "7     8  Gintama'\\n\\nTV (51 eps)\\nApr 2011 - Mar 2012\\n...  9.04\n",
      "8     9  Gintama: The Final\\n\\nMovie (1 eps)\\nJan 2021 ...  9.04\n",
      "9    10  Hunter x Hunter (2011)\\n\\nTV (148 eps)\\nOct 20...  9.04\n",
      "10   11  Gintama': Enchousen\\n\\nTV (13 eps)\\nOct 2012 -...  9.03\n",
      "11   12  Ginga Eiyuu Densetsu\\n\\nOVA (110 eps)\\nJan 198...  9.02\n",
      "12   13  \"Oshi no Ko\"\\n\\nTV (11 eps)\\nApr 2023 - Jun 20...  9.00\n",
      "13   14  Fruits Basket: The Final\\n\\nTV (13 eps)\\nApr 2...  9.00\n",
      "14   15  Gintama.\\n\\nTV (12 eps)\\nJan 2017 - Mar 2017\\n...  8.98\n",
      "15   16  Gintama\\n\\nTV (201 eps)\\nApr 2006 - Mar 2010\\n...  8.94\n",
      "16   17  Koe no Katachi\\n\\nMovie (1 eps)\\nSep 2016 - Se...  8.94\n",
      "17   18  3-gatsu no Lion 2nd Season\\n\\nTV (22 eps)\\nOct...  8.93\n",
      "18   19  Clannad: After Story\\n\\nTV (24 eps)\\nOct 2008 ...  8.93\n",
      "19   20  Code Geass: Hangyaku no Lelouch R2\\n\\nTV (25 e...  8.91\n",
      "20   21  Gintama Movie 2: Kanketsu-hen - Yorozuya yo Ei...  8.91\n",
      "21   22  Violet Evergarden Movie\\n\\nMovie (1 eps)\\nSep ...  8.90\n",
      "22   23  Owarimonogatari 2nd Season\\n\\nTV (7 eps)\\nAug ...  8.88\n",
      "23   24  Gintama.: Shirogane no Tamashii-hen - Kouhan-s...  8.88\n",
      "24   25  Kaguya-sama wa Kokurasetai: First Kiss wa Owar...  8.88\n",
      "25   26  Monster\\n\\nTV (74 eps)\\nApr 2004 - Sep 2005\\n1...  8.87\n",
      "26   27  Bocchi the Rock!\\n\\nTV (12 eps)\\nOct 2022 - De...  8.86\n",
      "27   28  Kimi no Na wa.\\n\\nMovie (1 eps)\\nAug 2016 - Au...  8.85\n",
      "28   29  Kingdom 3rd Season\\n\\nTV (26 eps)\\nApr 2020 - ...  8.81\n",
      "29   30  Gintama.: Shirogane no Tamashii-hen\\n\\nTV (12 ...  8.81\n",
      "30   31  Kimetsu no Yaiba: Yuukaku-hen\\n\\nTV (11 eps)\\n...  8.80\n",
      "31   32  Mob Psycho 100 II\\n\\nTV (13 eps)\\nJan 2019 - A...  8.80\n",
      "32   33  Shingeki no Kyojin: The Final Season\\n\\nTV (16...  8.80\n",
      "33   34  Kizumonogatari III: Reiketsu-hen\\n\\nMovie (1 e...  8.79\n",
      "34   35  Sen to Chihiro no Kamikakushi\\n\\nMovie (1 eps)...  8.78\n",
      "35   36  Haikyuu!! Karasuno Koukou vs. Shiratorizawa Ga...  8.78\n",
      "36   37  Monogatari Series: Second Season\\n\\nTV (26 eps...  8.77\n",
      "37   38  Shingeki no Kyojin: The Final Season Part 2\\n\\...  8.77\n",
      "38   39  Hajime no Ippo\\n\\nTV (75 eps)\\nOct 2000 - Mar ...  8.76\n",
      "39   40  Cowboy Bebop\\n\\nTV (26 eps)\\nApr 1998 - Apr 19...  8.75\n",
      "40   41  Kingdom 4th Season\\n\\nTV (26 eps)\\nApr 2022 - ...  8.75\n",
      "41   42  Vinland Saga\\n\\nTV (24 eps)\\nJul 2019 - Dec 20...  8.74\n",
      "42   43  Mushishi Zoku Shou 2nd Season\\n\\nTV (10 eps)\\n...  8.73\n",
      "43   44  Shiguang Dailiren\\n\\nONA (11 eps)\\nApr 2021 - ...  8.73\n",
      "44   45  Shouwa Genroku Rakugo Shinjuu: Sukeroku Futata...  8.73\n",
      "45   46  Mob Psycho 100 III\\n\\nTV (12 eps)\\nOct 2022 - ...  8.72\n",
      "46   47  Vinland Saga Season 2\\n\\nTV (24 eps)\\nJan 2023...  8.72\n",
      "47   48  Rurouni Kenshin: Meiji Kenkaku Romantan - Tsui...  8.71\n",
      "48   49  86 Part 2\\n\\nTV (12 eps)\\nOct 2021 - Mar 2022\\...  8.71\n",
      "49   50  Ashita no Joe 2\\n\\nTV (47 eps)\\nOct 1980 - Aug...  8.71\n"
     ]
    }
   ],
   "source": [
    "data = {'Rank': ranks, 'Anime Title': titles, 'Score': scores}\n",
    "df = pd.DataFrame(data)\n",
    "print(df)"
   ]
  },
  {
   "cell_type": "code",
   "execution_count": 17,
   "metadata": {},
   "outputs": [
    {
     "name": "stdout",
     "output_type": "stream",
     "text": [
      "nice\n"
     ]
    }
   ],
   "source": [
    "#tinggal bikin file excel (anime_data)\n",
    "df.to_excel('animee_data.xlsx', index=False)\n",
    "print(\"nice\")"
   ]
  },
  {
   "cell_type": "code",
   "execution_count": 18,
   "metadata": {},
   "outputs": [],
   "source": [
    "driver.quit()"
   ]
  }
 ],
 "metadata": {
  "kernelspec": {
   "display_name": "Python 3 (ipykernel)",
   "language": "python",
   "name": "python3"
  },
  "language_info": {
   "codemirror_mode": {
    "name": "ipython",
    "version": 3
   },
   "file_extension": ".py",
   "mimetype": "text/x-python",
   "name": "python",
   "nbconvert_exporter": "python",
   "pygments_lexer": "ipython3",
   "version": "3.10.9"
  }
 },
 "nbformat": 4,
 "nbformat_minor": 2
}
